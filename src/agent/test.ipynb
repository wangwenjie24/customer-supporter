{
 "cells": [
  {
   "cell_type": "code",
   "execution_count": 19,
   "metadata": {},
   "outputs": [
    {
     "data": {
      "text/plain": [
       "{'c4aa440d-6d97-47d1-b30e-4fb6fcaf399d': StructuredTool(name='3M', description='Information about 3M', args_schema={'type': 'object', 'properties': {'year': {'type': 'integer', 'description': '年份'}}, 'required': ['year']}, func=<function create_tool.<locals>.company_tool at 0x13c6a49a0>),\n",
       " 'c725cc96-5849-45d6-a194-5888b41fa55e': StructuredTool(name='AO_Smith', description='Information about A.O. Smith', args_schema={'type': 'object', 'properties': {'year': {'type': 'integer', 'description': '年份'}}, 'required': ['year']}, func=<function create_tool.<locals>.company_tool at 0x13c6336a0>),\n",
       " '0cc07880-f4ec-4037-a29d-d88ef3facee7': StructuredTool(name='Abbott', description='Information about Abbott', args_schema={'type': 'object', 'properties': {'year': {'type': 'integer', 'description': '年份'}}, 'required': ['year']}, func=<function create_tool.<locals>.company_tool at 0x13cc3c0e0>),\n",
       " 'dd879e04-e375-4c8b-b533-a8e152482138': StructuredTool(name='Accenture', description='Information about Accenture', args_schema={'type': 'object', 'properties': {'year': {'type': 'integer', 'description': '年份'}}, 'required': ['year']}, func=<function create_tool.<locals>.company_tool at 0x13cc3c4a0>),\n",
       " 'acc6fa89-9760-44e7-b334-05eed8817543': StructuredTool(name='Advanced_Micro_Devices', description='Information about Advanced Micro Devices', args_schema={'type': 'object', 'properties': {'year': {'type': 'integer', 'description': '年份'}}, 'required': ['year']}, func=<function create_tool.<locals>.company_tool at 0x13cc3c360>),\n",
       " '3c697b50-c10b-48fe-97c6-c9cce663614a': StructuredTool(name='Yum_Brands', description='Information about Yum! Brands', args_schema={'type': 'object', 'properties': {'year': {'type': 'integer', 'description': '年份'}}, 'required': ['year']}, func=<function create_tool.<locals>.company_tool at 0x13cc3c7c0>),\n",
       " '3acd3aa3-1bf8-4ebf-88dc-47017a45d471': StructuredTool(name='Zebra_Technologies', description='Information about Zebra Technologies', args_schema={'type': 'object', 'properties': {'year': {'type': 'integer', 'description': '年份'}}, 'required': ['year']}, func=<function create_tool.<locals>.company_tool at 0x13cc3c680>),\n",
       " '98fe0c56-ca52-42e3-b134-f75f89c943f4': StructuredTool(name='Zimmer_Biomet', description='Information about Zimmer Biomet', args_schema={'type': 'object', 'properties': {'year': {'type': 'integer', 'description': '年份'}}, 'required': ['year']}, func=<function create_tool.<locals>.company_tool at 0x13cc3c5e0>),\n",
       " '3fb59d6d-7a46-4074-93df-d244571a5895': StructuredTool(name='Zoetis', description='Information about Zoetis', args_schema={'type': 'object', 'properties': {'year': {'type': 'integer', 'description': '年份'}}, 'required': ['year']}, func=<function create_tool.<locals>.company_tool at 0x13cc3c900>)}"
      ]
     },
     "execution_count": 19,
     "metadata": {},
     "output_type": "execute_result"
    }
   ],
   "source": [
    "import re\n",
    "import uuid\n",
    "\n",
    "from langchain_core.tools import StructuredTool\n",
    "from pydantic import BaseModel\n",
    "\n",
    "\n",
    "def create_tool(company: str) -> dict:\n",
    "    \"\"\"Create schema for a placeholder tool.\"\"\"\n",
    "    # Remove non-alphanumeric characters and replace spaces with underscores for the tool name\n",
    "    formatted_company = re.sub(r\"[^\\w\\s]\", \"\", company).replace(\" \", \"_\")\n",
    "\n",
    "    def company_tool(year: int) -> str:\n",
    "        # Placeholder function returning static revenue information for the company and year\n",
    "        return f\"{company} had revenues of $100 in {year}.\"\n",
    "\n",
    "    return StructuredTool.from_function(\n",
    "        company_tool,\n",
    "        name=formatted_company,\n",
    "        description=f\"Information about {company}\",\n",
    "        args_schema={\n",
    "            \"type\": \"object\",\n",
    "            \"properties\": {\n",
    "                \"year\": {\"type\": \"integer\", \"description\": \"年份\"},\n",
    "            },\n",
    "            \"required\": [\"year\"]\n",
    "        }\n",
    "    )\n",
    "\n",
    "\n",
    "# Abbreviated list of S&P 500 companies for demonstration\n",
    "s_and_p_500_companies = [\n",
    "    \"3M\",\n",
    "    \"A.O. Smith\",\n",
    "    \"Abbott\",\n",
    "    \"Accenture\",\n",
    "    \"Advanced Micro Devices\",\n",
    "    \"Yum! Brands\",\n",
    "    \"Zebra Technologies\",\n",
    "    \"Zimmer Biomet\",\n",
    "    \"Zoetis\",\n",
    "]\n",
    "\n",
    "# Create a tool for each company and store it in a registry with a unique UUID as the key\n",
    "tool_registry = {\n",
    "    str(uuid.uuid4()): create_tool(company) for company in s_and_p_500_companies\n",
    "}\n",
    "\n",
    "tool_registry"
   ]
  },
  {
   "cell_type": "code",
   "execution_count": 20,
   "metadata": {},
   "outputs": [],
   "source": [
    "from langchain_core.documents import Document\n",
    "from langchain_core.vectorstores import InMemoryVectorStore\n",
    "from langchain_openai import OpenAIEmbeddings\n",
    "\n",
    "tool_documents = [\n",
    "    Document(\n",
    "        page_content=tool.description,\n",
    "        id=id,\n",
    "        metadata={\"tool_name\": tool.name},\n",
    "    )\n",
    "    for id, tool in tool_registry.items()\n",
    "]\n",
    "\n",
    "vector_store = InMemoryVectorStore(embedding=OpenAIEmbeddings())\n",
    "document_ids = vector_store.add_documents(tool_documents)"
   ]
  },
  {
   "cell_type": "code",
   "execution_count": 38,
   "metadata": {},
   "outputs": [],
   "source": [
    "from typing import Annotated\n",
    "\n",
    "from langchain_openai import ChatOpenAI\n",
    "from typing_extensions import TypedDict\n",
    "\n",
    "from langgraph.graph import StateGraph, START\n",
    "from langgraph.graph.message import add_messages\n",
    "from langgraph.prebuilt import ToolNode, tools_condition\n",
    "\n",
    "from langchain_core.messages import SystemMessage, HumanMessage\n",
    "\n",
    "# Define the state structure using TypedDict.\n",
    "# It includes a list of messages (processed by add_messages)\n",
    "# and a list of selected tool IDs.\n",
    "class State(TypedDict):\n",
    "    messages: Annotated[list, add_messages]\n",
    "    selected_tools: list[str]\n",
    "\n",
    "\n",
    "builder = StateGraph(State)\n",
    "\n",
    "# Retrieve all available tools from the tool registry.\n",
    "tools = list(tool_registry.values())\n",
    "llm = ChatOpenAI()\n",
    "\n",
    "\n",
    "# The agent function processes the current state\n",
    "# by binding selected tools to the LLM.\n",
    "def agent(state: State):\n",
    "    # Map tool IDs to actual tools\n",
    "    # based on the state's selected_tools list.\n",
    "    selected_tools = [tool_registry[id] for id in state[\"selected_tools\"]]\n",
    "    print(\"selected_tools\",selected_tools)\n",
    "    # Bind the selected tools to the LLM for the current interaction.\n",
    "    llm_with_tools = llm.bind_tools(selected_tools)\n",
    "    # Invoke the LLM with the current messages and return the updated message list.\n",
    "    return {\"messages\": [llm_with_tools.invoke(state[\"messages\"])]}\n",
    "\n",
    "\n",
    "# The select_tools function selects tools based on the user's last message content.\n",
    "def select_tools(state: State):\n",
    "    last_user_message = state[\"messages\"][-1]\n",
    "    query = last_user_message.content\n",
    "    tool_documents = vector_store.similarity_search(query)\n",
    "    print(\"tool_documents\",tool_documents)\n",
    "    return {\"selected_tools\": [document.id for document in tool_documents]}\n",
    "\n",
    "\n",
    "builder.add_node(\"agent\", agent)\n",
    "builder.add_node(\"select_tools\", select_tools)\n",
    "\n",
    "tool_node = ToolNode(tools=tools)\n",
    "builder.add_node(\"tools\", tool_node)\n",
    "\n",
    "builder.add_conditional_edges(\"agent\", tools_condition, path_map=[\"tools\", \"__end__\"])\n",
    "builder.add_edge(\"tools\", \"agent\")\n",
    "builder.add_edge(\"select_tools\", \"agent\")\n",
    "builder.add_edge(START, \"select_tools\")\n",
    "graph = builder.compile()"
   ]
  },
  {
   "cell_type": "code",
   "execution_count": 4,
   "metadata": {},
   "outputs": [
    {
     "data": {
      "image/png": "[encoded data removed]",
      "text/plain": [
       "<IPython.core.display.Image object>"
      ]
     },
     "metadata": {},
     "output_type": "display_data"
    }
   ],
   "source": [
    "from IPython.display import Image, display\n",
    "\n",
    "try:\n",
    "    display(Image(graph.get_graph().draw_mermaid_png()))\n",
    "except Exception:\n",
    "    # This requires some extra dependencies and is optional\n",
    "    pass"
   ]
  },
  {
   "cell_type": "code",
   "execution_count": 39,
   "metadata": {},
   "outputs": [
    {
     "name": "stdout",
     "output_type": "stream",
     "text": [
      "tool_documents [Document(id='acc6fa89-9760-44e7-b334-05eed8817543', metadata={'tool_name': 'Advanced_Micro_Devices'}, page_content='Information about Advanced Micro Devices'), Document(id='0cc07880-f4ec-4037-a29d-d88ef3facee7', metadata={'tool_name': 'Abbott'}, page_content='Information about Abbott'), Document(id='c725cc96-5849-45d6-a194-5888b41fa55e', metadata={'tool_name': 'AO_Smith'}, page_content='Information about A.O. Smith'), Document(id='dd879e04-e375-4c8b-b533-a8e152482138', metadata={'tool_name': 'Accenture'}, page_content='Information about Accenture')]\n",
      "selected_tools [StructuredTool(name='Advanced_Micro_Devices', description='Information about Advanced Micro Devices', args_schema={'type': 'object', 'properties': {'year': {'type': 'integer', 'description': '年份'}}, 'required': ['year']}, func=<function create_tool.<locals>.company_tool at 0x13cc3c360>), StructuredTool(name='Abbott', description='Information about Abbott', args_schema={'type': 'object', 'properties': {'year': {'type': 'integer', 'description': '年份'}}, 'required': ['year']}, func=<function create_tool.<locals>.company_tool at 0x13cc3c0e0>), StructuredTool(name='AO_Smith', description='Information about A.O. Smith', args_schema={'type': 'object', 'properties': {'year': {'type': 'integer', 'description': '年份'}}, 'required': ['year']}, func=<function create_tool.<locals>.company_tool at 0x13c6336a0>), StructuredTool(name='Accenture', description='Information about Accenture', args_schema={'type': 'object', 'properties': {'year': {'type': 'integer', 'description': '年份'}}, 'required': ['year']}, func=<function create_tool.<locals>.company_tool at 0x13cc3c4a0>)]\n",
      "selected_tools [StructuredTool(name='Advanced_Micro_Devices', description='Information about Advanced Micro Devices', args_schema={'type': 'object', 'properties': {'year': {'type': 'integer', 'description': '年份'}}, 'required': ['year']}, func=<function create_tool.<locals>.company_tool at 0x13cc3c360>), StructuredTool(name='Abbott', description='Information about Abbott', args_schema={'type': 'object', 'properties': {'year': {'type': 'integer', 'description': '年份'}}, 'required': ['year']}, func=<function create_tool.<locals>.company_tool at 0x13cc3c0e0>), StructuredTool(name='AO_Smith', description='Information about A.O. Smith', args_schema={'type': 'object', 'properties': {'year': {'type': 'integer', 'description': '年份'}}, 'required': ['year']}, func=<function create_tool.<locals>.company_tool at 0x13c6336a0>), StructuredTool(name='Accenture', description='Information about Accenture', args_schema={'type': 'object', 'properties': {'year': {'type': 'integer', 'description': '年份'}}, 'required': ['year']}, func=<function create_tool.<locals>.company_tool at 0x13cc3c4a0>)]\n"
     ]
    }
   ],
   "source": [
    "user_input = \"Can you give me some information about AMD\"\n",
    "\n",
    "result = graph.invoke({\"messages\": [(\"user\", user_input)]})"
   ]
  },
  {
   "cell_type": "code",
   "execution_count": 40,
   "metadata": {},
   "outputs": [
    {
     "data": {
      "text/plain": [
       "{'messages': [HumanMessage(content='Can you give me some information about AMD', additional_kwargs={}, response_metadata={}, id='862c4309-e2ac-49e0-b700-54eec3397c86'),\n",
       "  AIMessage(content='', additional_kwargs={'tool_calls': [{'id': 'call_musJhNaFcFSCffRaMDKhXOn5', 'function': {'arguments': '{\"year\":2021}', 'name': 'Advanced_Micro_Devices'}, 'type': 'function'}], 'refusal': None}, response_metadata={'token_usage': {'completion_tokens': 21, 'prompt_tokens': 141, 'total_tokens': 162, 'completion_tokens_details': {'accepted_prediction_tokens': 0, 'audio_tokens': 0, 'reasoning_tokens': 0, 'rejected_prediction_tokens': 0}, 'prompt_tokens_details': {'audio_tokens': 0, 'cached_tokens': 0}}, 'model_name': 'gpt-3.5-turbo-0125', 'system_fingerprint': None, 'id': 'chatcmpl-BQp2tpBIVW8DWqONMo6YurBSiuiVq', 'finish_reason': 'tool_calls', 'logprobs': None}, id='run-1d0254eb-8c4f-4181-a4e4-528966decbe1-0', tool_calls=[{'name': 'Advanced_Micro_Devices', 'args': {'year': 2021}, 'id': 'call_musJhNaFcFSCffRaMDKhXOn5', 'type': 'tool_call'}], usage_metadata={'input_tokens': 141, 'output_tokens': 21, 'total_tokens': 162, 'input_token_details': {'audio': 0, 'cache_read': 0}, 'output_token_details': {'audio': 0, 'reasoning': 0}}),\n",
       "  ToolMessage(content='Advanced Micro Devices had revenues of $100 in 2021.', name='Advanced_Micro_Devices', id='5a785c7a-1482-4d8f-9988-bb8526b51a48', tool_call_id='call_musJhNaFcFSCffRaMDKhXOn5'),\n",
       "  AIMessage(content='In 2021, Advanced Micro Devices (AMD) had revenues of $100.', additional_kwargs={'refusal': None}, response_metadata={'token_usage': {'completion_tokens': 19, 'prompt_tokens': 186, 'total_tokens': 205, 'completion_tokens_details': {'accepted_prediction_tokens': 0, 'audio_tokens': 0, 'reasoning_tokens': 0, 'rejected_prediction_tokens': 0}, 'prompt_tokens_details': {'audio_tokens': 0, 'cached_tokens': 0}}, 'model_name': 'gpt-3.5-turbo-0125', 'system_fingerprint': None, 'id': 'chatcmpl-BQp2uCsw9ZdeQ2QkgXsoXrL2SEKm3', 'finish_reason': 'stop', 'logprobs': None}, id='run-2e508e27-bbb2-45d8-a15f-cf59ba868fa9-0', usage_metadata={'input_tokens': 186, 'output_tokens': 19, 'total_tokens': 205, 'input_token_details': {'audio': 0, 'cache_read': 0}, 'output_token_details': {'audio': 0, 'reasoning': 0}})],\n",
       " 'selected_tools': ['acc6fa89-9760-44e7-b334-05eed8817543',\n",
       "  '0cc07880-f4ec-4037-a29d-d88ef3facee7',\n",
       "  'c725cc96-5849-45d6-a194-5888b41fa55e',\n",
       "  'dd879e04-e375-4c8b-b533-a8e152482138']}"
      ]
     },
     "execution_count": 40,
     "metadata": {},
     "output_type": "execute_result"
    }
   ],
   "source": [
    "result"
   ]
  },
  {
   "cell_type": "code",
   "execution_count": 45,
   "metadata": {},
   "outputs": [
    {
     "name": "stdout",
     "output_type": "stream",
     "text": [
      "[StructuredTool(name='get_weather', description='Call to get the current weather.', args_schema=<class 'langchain_core.utils.pydantic.get_weather'>, func=<function get_weather at 0x13cc656c0>), StructuredTool(name='get_coolest_cities', description='Get a list of coolest cities', args_schema=<class 'langchain_core.utils.pydantic.get_coolest_cities'>, func=<function get_coolest_cities at 0x13cc658a0>)]\n"
     ]
    }
   ],
   "source": [
    "from langchain_core.messages import AIMessage\n",
    "from langchain_core.tools import tool\n",
    "\n",
    "from langgraph.prebuilt import ToolNode\n",
    "\n",
    "\n",
    "def get_weather(location: str):\n",
    "    \"\"\"Call to get the current weather.\"\"\"\n",
    "    if location.lower() in [\"sf\", \"san francisco\"]:\n",
    "        return \"It's 60 degrees and foggy.\"\n",
    "    else:\n",
    "        return \"It's 90 degrees and sunny.\"\n",
    "\n",
    "\n",
    "@tool\n",
    "def get_coolest_cities():\n",
    "    \"\"\"Get a list of coolest cities\"\"\"\n",
    "    return \"nyc, sf\"\n",
    "\n",
    "tool = StructuredTool.from_function(get_weather)\n",
    "\n",
    "tools = [tool, get_coolest_cities]\n",
    "print(tools)\n",
    "tool_node = ToolNode(tools)\n",
    "\n"
   ]
  },
  {
   "cell_type": "code",
   "execution_count": 42,
   "metadata": {},
   "outputs": [],
   "source": [
    "from typing import Literal\n",
    "\n",
    "\n",
    "from langgraph.graph import StateGraph, MessagesState\n",
    "from langgraph.prebuilt import ToolNode\n",
    "\n",
    "\n",
    "model_with_tools = llm.bind_tools(tools)\n",
    "\n"
   ]
  },
  {
   "cell_type": "code",
   "execution_count": 43,
   "metadata": {},
   "outputs": [],
   "source": [
    "from typing import Literal\n",
    "\n",
    "from langgraph.graph import StateGraph, MessagesState, START, END\n",
    "\n",
    "\n",
    "def should_continue(state: MessagesState):\n",
    "    messages = state[\"messages\"]\n",
    "    last_message = messages[-1]\n",
    "    if last_message.tool_calls:\n",
    "        return \"tools\"\n",
    "    return END\n",
    "\n",
    "\n",
    "def call_model(state: MessagesState):\n",
    "    messages = state[\"messages\"]\n",
    "    response = model_with_tools.invoke(messages)\n",
    "    return {\"messages\": [response]}\n",
    "\n",
    "\n",
    "workflow = StateGraph(MessagesState)\n",
    "\n",
    "# Define the two nodes we will cycle between\n",
    "workflow.add_node(\"agent\", call_model)\n",
    "workflow.add_node(\"tools\", tool_node)\n",
    "\n",
    "workflow.add_edge(START, \"agent\")\n",
    "workflow.add_conditional_edges(\"agent\", should_continue, [\"tools\", END])\n",
    "workflow.add_edge(\"tools\", \"agent\")\n",
    "\n",
    "app = workflow.compile()"
   ]
  },
  {
   "cell_type": "code",
   "execution_count": 17,
   "metadata": {},
   "outputs": [
    {
     "data": {
      "image/png": "[encoded data removed]",
      "text/plain": [
       "<IPython.core.display.Image object>"
      ]
     },
     "metadata": {},
     "output_type": "display_data"
    }
   ],
   "source": [
    "from IPython.display import Image, display\n",
    "\n",
    "try:\n",
    "    display(Image(app.get_graph().draw_mermaid_png()))\n",
    "except Exception:\n",
    "    # This requires some extra dependencies and is optional\n",
    "    pass"
   ]
  },
  {
   "cell_type": "code",
   "execution_count": 56,
   "metadata": {},
   "outputs": [
    {
     "name": "stdout",
     "output_type": "stream",
     "text": [
      "================================\u001b[1m Human Message \u001b[0m=================================\n",
      "\n",
      "what's the weather?\n",
      "==================================\u001b[1m Ai Message \u001b[0m==================================\n",
      "\n",
      "Sure, I can help you with that. Could you please provide me with the location for which you want to know the weather?\n"
     ]
    }
   ],
   "source": [
    "for chunk in app.stream(\n",
    "    {\"messages\": [(\"human\", \"what's the weather?\")]}, stream_mode=\"values\"\n",
    "):\n",
    "    chunk[\"messages\"][-1].pretty_print()\n"
   ]
  },
  {
   "cell_type": "code",
   "execution_count": 57,
   "metadata": {},
   "outputs": [
    {
     "name": "stdout",
     "output_type": "stream",
     "text": [
      "================================\u001b[1m Human Message \u001b[0m=================================\n",
      "\n",
      "sf\n",
      "==================================\u001b[1m Ai Message \u001b[0m==================================\n",
      "\n",
      "Sure, I can provide you with the current weather for San Francisco. Let me fetch that information for you.\n",
      "Tool Calls:\n",
      "  get_weather (call_K9i9ybuFkF9hIXdqaz9R4hq3)\n",
      " Call ID: call_K9i9ybuFkF9hIXdqaz9R4hq3\n",
      "  Args:\n",
      "    location: San Francisco\n",
      "=================================\u001b[1m Tool Message \u001b[0m=================================\n",
      "Name: get_weather\n",
      "\n",
      "It's 60 degrees and foggy.\n",
      "==================================\u001b[1m Ai Message \u001b[0m==================================\n",
      "\n",
      "The current weather in San Francisco is foggy with a temperature of 60 degrees. If you'd like information on any other cities or need further assistance, feel free to let me know!\n"
     ]
    }
   ],
   "source": [
    "for chunk in app.stream(\n",
    "    {\"messages\": [(\"human\", \"sf\")]}, stream_mode=\"values\"\n",
    "):\n",
    "    chunk[\"messages\"][-1].pretty_print()"
   ]
  }
 ],
 "metadata": {
  "kernelspec": {
   "display_name": "customer-supporter",
   "language": "python",
   "name": "python3"
  },
  "language_info": {
   "codemirror_mode": {
    "name": "ipython",
    "version": 3
   },
   "file_extension": ".py",
   "mimetype": "text/x-python",
   "name": "python",
   "nbconvert_exporter": "python",
   "pygments_lexer": "ipython3",
   "version": "3.13.2"
  }
 },
 "nbformat": 4,
 "nbformat_minor": 2
}
